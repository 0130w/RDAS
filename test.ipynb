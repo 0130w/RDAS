{
 "cells": [
  {
   "cell_type": "code",
   "execution_count": null,
   "metadata": {},
   "outputs": [],
   "source": []
  },
  {
   "cell_type": "code",
   "execution_count": 19,
   "metadata": {},
   "outputs": [],
   "source": [
    "from pyspark.sql import SparkSession\n",
    "from pyspark.sql.types import *\n",
    "from pyspark.sql.functions import *\n",
    "from pyspark.sql import functions as F\n",
    "# Driver\n",
    "spark = SparkSession \\\n",
    "    .builder \\\n",
    "    .master('local') \\\n",
    "    .appName('SparkProj') \\\n",
    "    .config(\"spark.driver.memory\", \"4g\") \\\n",
    "    .config(\"spark.executor.memory\", \"4g\") \\\n",
    "    .config(\"spark.memory.fraction\", \"0.8\") \\\n",
    "    .config(\"spark.memory.storageFraction\", \"0.4\") \\\n",
    "    .config(\"spark.shuffle.spill\", \"true\") \\\n",
    "    .config(\"spark.shuffle.spill.compress\", \"true\") \\\n",
    "    .getOrCreate()\n",
    "\n",
    "# define dataset files path\n",
    "business_path = 'dataset/yelp_academic_dataset_business.json'\n",
    "checkin_path = 'dataset/yelp_academic_dataset_checkin.json'\n",
    "review_path = 'dataset/yelp_academic_dataset_review.json'\n",
    "tip_path = 'dataset/yelp_academic_dataset_tip.json'\n",
    "user_path = 'dataset/yelp_academic_dataset_user.json'\n",
    "\n",
    "business = spark.read.json(business_path).limit(5000)\n",
    "checkin = spark.read.json(checkin_path).limit(5000)"
   ]
  },
  {
   "cell_type": "code",
   "execution_count": 20,
   "metadata": {},
   "outputs": [
    {
     "name": "stdout",
     "output_type": "stream",
     "text": [
      "+--------------------+--------------------+--------------------+--------------------+-------------+--------------------+-------+-------------+--------------+--------------------+-----------+------------+-----+-----+--------------------+--------------------+\n",
      "|             address|          attributes|         business_id|          categories|         city|               hours|is_open|     latitude|     longitude|                name|postal_code|review_count|stars|state|         business_id|                date|\n",
      "+--------------------+--------------------+--------------------+--------------------+-------------+--------------------+-------+-------------+--------------+--------------------+-----------+------------+-----+-----+--------------------+--------------------+\n",
      "|       2575 E Bay Dr|[,, u'none', {'ro...|0bPLkL0QhhPO5kt1_...|Food, Delis, Ital...|        Largo|[10:0-20:0, 10:0-...|      0|   27.9161159|   -82.7604608|Zio's Italian Market|      33771|         100|  4.5|   FL|0bPLkL0QhhPO5kt1_...|2010-08-26 17:52:...|\n",
      "|    2815 E Sligh Ave|[,,,,,,, True,, T...|0qNpTGTcqPwOLi2hA...|Food, Grocery, Co...|        Tampa|                null|      1|   28.0103596|   -82.4300416|    Charlie's Market|      33610|           9|  3.0|   FL|0qNpTGTcqPwOLi2hA...|2017-04-19 15:23:...|\n",
      "|3021 Grays Ferry Ave|[,,,,,,, True,, T...|-4dYswJy7SPcbcERv...|       Food, Grocery| Philadelphia|[6:0-1:0, 6:0-1:0...|      0|   39.9404026|   -75.1932966|            Pathmark|      19146|          34|  2.5|   PA|-4dYswJy7SPcbcERv...|2010-10-11 15:10:...|\n",
      "|    5789 E US Hwy 40|[,,,,,,, True,, T...|-ZXYcCyDjj1QimnJy...|Home Decor, Shopp...|   Plainfield|[10:0-17:0, 10:0-...|      1|39.6949931921|-86.4230714504|Gilley's Antique ...|      46168|          24|  4.5|   IN|-ZXYcCyDjj1QimnJy...|2013-02-24 16:36:...|\n",
      "|14598 Clay Terrac...|[,,,,,,, True,, T...|0vCsslN-TYnDeOSNT...|Food, Organic Sto...|       Carmel|[8:0-21:0, 0:0-0:...|      1|    39.999084|    -86.131076|  Whole Foods Market|      46032|          44|  3.5|   IN|0vCsslN-TYnDeOSNT...|2010-03-06 00:28:...|\n",
      "|    14005 McNulty Rd|[,,,,,,,,,,,,,,,,...|-aeZuatjCDMV1X4gC...|Buses, Transporta...| Philadelphia|[8:30-17:0, 8:30-...|      1|   40.1064092|   -74.9739371|David Thomas Trai...|      19154|           6|  4.5|   PA|-aeZuatjCDMV1X4gC...| 2019-03-03 12:51:48|\n",
      "|     5004 Pennell Rd|[,,,,,,, True, Fa...|1GnJDrpp-jyDRCpta...|Food, Ice Cream &...|        Aston|[12:0-21:0, 12:0-...|      1|   39.8649175|   -75.4275762|  Rita's Italian Ice|      19014|           7|  4.0|   PA|1GnJDrpp-jyDRCpta...|2012-12-09 16:55:...|\n",
      "|      401 E City Ave|[,, u'full_bar', ...|-7GDqSUaXrpC8Ql7n...|Nightlife, Bars, ...|  Bala Cynwyd|[11:30-0:0, 11:30...|      0|40.0079839104|-75.2126064939|          B2 Bluefin|      19004|          92|  4.0|   PA|-7GDqSUaXrpC8Ql7n...|2016-12-10 23:59:...|\n",
      "|230 Franklin Rd, ...|[,, u'none', {'ro...|1E9o1SNo7UTf1XHTF...|Restaurants, Acai...|     Franklin|[8:0-17:0, 8:0-17...|      1|35.9326054453| -86.860662065|   Franklin Juice Co|      37064|          66|  4.5|   TN|1E9o1SNo7UTf1XHTF...|2014-12-17 00:18:...|\n",
      "|        824 S 8th St|[,, u'full_bar', ...|0CEUpFtaKhxbmrbSd...|Restaurants, Caju...| Philadelphia|[17:0-2:0, 0:0-0:...|      0|   39.9389483|   -75.1564078|              Acadia|      19147|          79|  4.0|   PA|0CEUpFtaKhxbmrbSd...|2018-02-04 01:19:...|\n",
      "|680 E 56th St, Ste A|[,,, {u'divey': F...|0DbIUh_Xuj6H5B_SF...|Restaurants, Mexican|   Brownsburg|[10:30-22:30, 10:...|      1|39.8518617214|-86.3847577572|Iguana's Mexican ...|      46112|          74|  4.0|   IN|0DbIUh_Xuj6H5B_SF...|2017-07-02 21:17:...|\n",
      "|10500 Ulmerton Rd...|[True,,,,,,,,, Tr...|-Ijm5ICZUZffTo3iu...|Doctors, Health &...|        Largo|[8:0-19:0, 0:0-0:...|      1| 27.892834976|-82.7845353864|MedExpress Urgent...|      33771|          39|  2.5|   FL|-Ijm5ICZUZffTo3iu...|2015-04-26 12:52:...|\n",
      "| 10418 118 Avenue NW|[,,,,,,, True,,, ...|0Xsmy6HtVVBlCbbMj...|Bowling, Active Life|     Edmonton|[15:0-23:0,, 12:0...|      1|    53.570501|   -113.500041|       Plaza Bowling|    T5G 0P7|          19|  4.5|   AB|0Xsmy6HtVVBlCbbMj...|2012-11-15 01:46:...|\n",
      "|18 S County Cente...|[,,,,,,,,, True, ...|0Up4mOWP588Leb_dq...|Watches, Jewelry ...|    St. Louis|[11:0-20:0, 11:0-...|      1|38.5062356465|-90.3315210422|Rogers & Hollands...|      63129|           7|  4.0|   MO|0Up4mOWP588Leb_dq...|2014-07-27 20:29:...|\n",
      "|      5155 E 65th St|[,,,,,,,,, True,,...|-DXNvQLhKwunHzg8O...|Automotive, Auto ...| Indianapolis|[7:30-18:0, 7:30-...|      1|    39.875143|      -86.0824|Northeast Auto Se...|      46220|          54|  4.5|   IN|-DXNvQLhKwunHzg8O...|2013-02-28 17:59:...|\n",
      "|     3401 N Broad St|[True,,,,,,,,, Tr...|0WIlsDUUFuUKcDfJP...|Hospitals, Health...| Philadelphia|                null|      1|   40.0054237|   -75.1507198|Temple University...|      19140|          67|  2.0|   PA|0WIlsDUUFuUKcDfJP...|2012-05-31 21:42:...|\n",
      "| 12617 Race Track Rd|[,,,,,,,,, True, ...|0HpYaBbRqaG1df4Jc...|Drugstores, Shopping|        Tampa|[7:0-18:0, 7:0-19...|      0|   28.0662007|   -82.6354932|Westchase Compoun...|      33626|          11|  3.0|   FL|0HpYaBbRqaG1df4Jc...|2013-01-07 22:10:...|\n",
      "|  717-799 Orleans St|[,, 'full_bar', {...|0Ze7pcwjyauf6steW...|Bars, Local Flavo...|  New Orleans|                null|      0|29.9590929529|-90.0646781349| Hand Grenades To Go|      70116|          17|  3.5|   LA|0Ze7pcwjyauf6steW...|2013-04-04 04:47:...|\n",
      "|         27 4th St N|[,, 'full_bar', {...|1EokZOnCDkjv2VtPt...|American (Traditi...|St Petersburg|[17:0-2:0,, 17:0-...|      0|27.7717231748|-82.6383055959| Reno Downtown Joint|      33701|          10|  4.0|   FL|1EokZOnCDkjv2VtPt...|2014-10-24 20:48:...|\n",
      "|        4458 York Rd|[,,,,,,, True,, T...|00szsg8vQy6yX5f-m...|Grocery, Food, Fa...|   Buckingham|[10:0-18:0,, 10:0...|      1|     40.31862|    -75.066274|None Such Farm Ma...|      18912|          36|  4.0|   PA|00szsg8vQy6yX5f-m...|2010-12-03 21:56:...|\n",
      "+--------------------+--------------------+--------------------+--------------------+-------------+--------------------+-------+-------------+--------------+--------------------+-----------+------------+-----+-----+--------------------+--------------------+\n",
      "only showing top 20 rows\n",
      "\n"
     ]
    }
   ],
   "source": [
    "# business.join(right=checkin, joinExprs=business(\"business_id\") == checkin(\"business_id\"), joinType=\"inner\").show()\n",
    "join_business = business.join(checkin, business['business_id'] == checkin['business_id']) \n",
    "join_business.show()\n"
   ]
  },
  {
   "cell_type": "code",
   "execution_count": 21,
   "metadata": {},
   "outputs": [],
   "source": [
    "from pyspark.sql.dataframe import DataFrame\n",
    "# define target_cuisines\n",
    "target_cuisines_task9to12 = ['Chinese', 'American', 'Mexican']\n",
    "\n",
    "\n",
    "def epic1_filter_by_target_cuisines(business_df: DataFrame, target_cuisines: list):\n",
    "    \"\"\" Given a DataFrame containing business data and a list of target cuisines,\n",
    "        return a DataFrame containing only businesses that serve the target cuisines.\n",
    "    Parameters:\n",
    "    business_df: DataFrame - a DataFrame containing business data\n",
    "    target_cuisines: list - a list of target cuisines\n",
    "    Returns:\n",
    "    DataFrame - a DataFrame containing only businesses that serve the target cuisines\"\"\"\n",
    "    conditions = [business_df[\"categories\"].contains(\"Restaurant\") & business_df[\"categories\"].contains(cuisine) for\n",
    "                  cuisine in target_cuisines]\n",
    "    business_df = business_df.withColumn(\"target_cuisines\", when(conditions[0], target_cuisines[0]))\n",
    "    for i in range(1, len(conditions)):\n",
    "        business_df = business_df.withColumn(\"target_cuisines\", when(conditions[i], target_cuisines[i]).otherwise(\n",
    "            business_df[\"target_cuisines\"]))\n",
    "    return business_df.filter(business_df[\"target_cuisines\"].isin(target_cuisines))"
   ]
  },
  {
   "cell_type": "code",
   "execution_count": 25,
   "metadata": {},
   "outputs": [
    {
     "name": "stdout",
     "output_type": "stream",
     "text": [
      "+--------------------+--------------------+--------------------+--------------------+----------------+--------------------+-------+-------------+---------------+--------------------+-----------+------------+-----+-----+--------------------+--------------------+---------------+\n",
      "|             address|          attributes|         business_id|          categories|            city|               hours|is_open|     latitude|      longitude|                name|postal_code|review_count|stars|state|         business_id|                date|target_cuisines|\n",
      "+--------------------+--------------------+--------------------+--------------------+----------------+--------------------+-------+-------------+---------------+--------------------+-----------+------------+-----+-----+--------------------+--------------------+---------------+\n",
      "|680 E 56th St, Ste A|[,,, {u'divey': F...|0DbIUh_Xuj6H5B_SF...|Restaurants, Mexican|      Brownsburg|[10:30-22:30, 10:...|      1|39.8518617214| -86.3847577572|Iguana's Mexican ...|      46112|          74|  4.0|   IN|0DbIUh_Xuj6H5B_SF...|2017-07-02 21:17:...|        Mexican|\n",
      "|         27 4th St N|[,, 'full_bar', {...|1EokZOnCDkjv2VtPt...|American (Traditi...|   St Petersburg|[17:0-2:0,, 17:0-...|      0|27.7717231748| -82.6383055959| Reno Downtown Joint|      33701|          10|  4.0|   FL|1EokZOnCDkjv2VtPt...|2014-10-24 20:48:...|       American|\n",
      "|1644 Country Club...|[,, u'full_bar', ...|-lVTNjVoTMOkD-eT-...|Mexican, Restaurants|   Saint Charles|[11:0-22:30, 11:0...|      1|   38.7687445|    -90.5219795|     El Rancho Nuevo|      63303|          66|  3.5|   MO|-lVTNjVoTMOkD-eT-...|2017-05-07 23:43:...|        Mexican|\n",
      "|    1642 Butler Pike|[,, u'none', {'ro...|0sr1EyOc6Td1C-962...|Italian, American...|    Conshohocken|[10:0-23:0, 0:0-0...|      1|    40.088398|    -75.2926963|La Cucina Italian...|      19428|          44|  4.0|   PA|0sr1EyOc6Td1C-962...|2016-02-02 21:44:...|       American|\n",
      "|    1019 Florida Ave|[,,,,,,,,,,,, Tru...|0t14RIHl4wODz7LRi...|Tex-Mex, Restaura...|     Palm Harbor|[15:0-23:0,, 15:0...|      1|   28.0783137|    -82.7666322|  Salty Lime Cantina|      34683|         103|  4.5|   FL|0t14RIHl4wODz7LRi...|2018-02-14 01:03:...|        Mexican|\n",
      "|     200 Fairview Rd|[,,, {'romantic':...|-97632CUoOkJ8x4Al...|American (Traditi...|         Woodlyn|                null|      0|   39.8751524|    -75.3436091|Abner's Pizza & G...|      19094|           5|  1.5|   PA|-97632CUoOkJ8x4Al...|2014-07-18 23:02:...|       American|\n",
      "|      20 Richboro Rd|[,, u'none', {'to...|0zH0l4Jbf-oove3cL...|American (New), I...|         Newtown|[11:30-22:0, 11:3...|      1|   40.2280271|    -74.9401945|     Vecchia Osteria|      18940|         359|  4.0|   PA|0zH0l4Jbf-oove3cL...|2011-06-15 19:36:...|       American|\n",
      "|625 E Wetmore Rd,...|[,, u'none',, Fal...|-3-6BB10tIWNKGEF0...|Coffee & Tea, Asi...|          Tucson|[10:0-21:0, 0:0-0...|      1|   32.2885403|   -110.9631443|The 81 Hong Kong ...|      85705|         133|  4.0|   AZ|-3-6BB10tIWNKGEF0...|2020-09-09 21:54:...|        Chinese|\n",
      "|   4630 Lebanon Pike|[,,, {'romantic':...|-2Axhv9AZ_n7qjQef...|Greek, Mediterran...|       Hermitage|[11:0-21:0, 11:0-...|      0|   36.2166079|    -86.5963643|   Greek Sotir Grill|      37076|          21|  3.5|   TN|-2Axhv9AZ_n7qjQef...|2015-06-10 00:51:...|       American|\n",
      "|11435 Saskatchewa...|[,, u'full_bar', ...|151ujtgcbkGzAHUnc...|Event Planning & ...|        Edmonton|                null|      1|   53.5300382|   -113.5283787|        Faculty Club|    T6G 2G9|          13|  4.0|   AB|151ujtgcbkGzAHUnc...|2012-02-24 20:53:...|       American|\n",
      "|232 Hutton Pl, St...|[,, u'full_bar', ...|-Lfib0jjHweCly1-F...|American (New), R...|    Ashland City|[11:0-23:0, 11:0-...|      1|    36.250434|     -87.035458|     Sidelines Grill|      37015|          39|  3.0|   TN|-Lfib0jjHweCly1-F...|2011-07-26 00:05:...|       American|\n",
      "|       210 4th Ave N|[,, u'beer_and_wi...|1JxSgUivApwcRYFnX...|Cafes, Restaurant...|       Nashville|[7:0-13:0, 7:0-12...|      1|   36.1642022|    -86.7789669|Natura Cafe Nashv...|      37219|           5|  3.0|   TN|1JxSgUivApwcRYFnX...|2019-01-12 17:12:...|       American|\n",
      "| 437 S Gulfview Blvd|[,, u'full_bar', ...|-zsvmEbkd-K9K2DAA...|Mexican, American...|Clearwater Beach|[8:30-1:0, 0:0-0:...|      1|    27.969764|     -82.829336|Salty's Island Ba...|      33767|         599|  4.0|   FL|-zsvmEbkd-K9K2DAA...|2016-04-23 00:38:...|        Mexican|\n",
      "|  2659 N Illinois St|[,, u'none', {'ro...|1CRaUspmxoegNBUnL...|Chinese, Restaurants|         Swansea|[10:30-22:30, 10:...|      1|38.5443273542| -89.9841293629|Li Chinese Reaturant|      62226|          27|  3.0|   IL|1CRaUspmxoegNBUnL...|2012-03-27 16:10:...|        Chinese|\n",
      "|  3203 Calgary Trail|[,, u'full_bar', ...|0IG9w6YCkh-z5pnfS...|Chinese, Restaura...|        Edmonton|[10:0-22:30, 10:3...|      1|53.4642729002|-113.4947454929|        Tasty Noodle|    T6J 5X8|          64|  3.5|   AB|0IG9w6YCkh-z5pnfS...|2012-07-15 03:06:...|        Chinese|\n",
      "|       404 W Main St|[,, u'beer_and_wi...|-ksLHy9XXZVYuIVow...|American (New), T...|          Carmel|[16:0-2:0,, 16:0-...|      0|    39.978529|     -86.131936|   Shiraz Wine Cafe'|      46032|          39|  2.5|   IN|-ksLHy9XXZVYuIVow...|2011-07-26 23:11:...|       American|\n",
      "|      351 S Perry Rd|[,, u'full_bar', ...|1JHPRGTHrrSIcKDGz...|Bars, Steakhouses...|      Plainfield|[11:0-21:0, 0:0-0...|      1|    39.714395|     -86.354627|   Logan's Roadhouse|      46168|          76|  2.5|   IN|1JHPRGTHrrSIcKDGz...|2010-08-27 22:18:...|       American|\n",
      "|      7035 E 96th St|[,,,,,,,,, True, ...|0SZy4uieBzBzg54vR...|Restaurants, Chinese|    Indianapolis|                null|      0|     39.92633|    -86.0448719|       Panda Express|      46250|           6|  2.0|   IN|0SZy4uieBzBzg54vR...|2010-02-18 16:42:...|        Chinese|\n",
      "|15820 87th Avenue NW|[,, u'full_bar', ...|0CLCzdedGT2DPjkYM...|American (Traditi...|        Edmonton|[11:30-23:0, 11:3...|      1|53.5201345852|-113.5962501821|Brewsters Brewing...|    T5R 5W9|          37|  3.5|   AB|0CLCzdedGT2DPjkYM...|2010-11-13 23:22:...|       American|\n",
      "|     500 Delsea Dr N|[,, u'full_bar', ...|16zHT7zp6K9IEQZ1o...|Pubs, Bars, Resta...|       Glassboro|[7:0-2:0, 7:0-2:0...|      0|39.7136834654| -75.1113189153|          PB's Diner|      08028|         119|  2.5|   NJ|16zHT7zp6K9IEQZ1o...|2010-07-24 17:12:...|       American|\n",
      "+--------------------+--------------------+--------------------+--------------------+----------------+--------------------+-------+-------------+---------------+--------------------+-----------+------------+-----+-----+--------------------+--------------------+---------------+\n",
      "only showing top 20 rows\n",
      "\n"
     ]
    }
   ],
   "source": [
    "filtered_business_df = epic1_filter_by_target_cuisines(join_business, target_cuisines_task9to12)\n",
    "filtered_business_df.show()"
   ]
  },
  {
   "cell_type": "code",
   "execution_count": 26,
   "metadata": {},
   "outputs": [
    {
     "name": "stdout",
     "output_type": "stream",
     "text": [
      "+--------------------+--------------------+--------------------+--------------------+----------------+--------------------+-------+-------------+---------------+--------------------+-----------+------------+-----+-----+--------------------+---------------+----+\n",
      "|             address|          attributes|         business_id|          categories|            city|               hours|is_open|     latitude|      longitude|                name|postal_code|review_count|stars|state|         business_id|target_cuisines|year|\n",
      "+--------------------+--------------------+--------------------+--------------------+----------------+--------------------+-------+-------------+---------------+--------------------+-----------+------------+-----+-----+--------------------+---------------+----+\n",
      "|680 E 56th St, Ste A|[,,, {u'divey': F...|0DbIUh_Xuj6H5B_SF...|Restaurants, Mexican|      Brownsburg|[10:30-22:30, 10:...|      1|39.8518617214| -86.3847577572|Iguana's Mexican ...|      46112|          74|  4.0|   IN|0DbIUh_Xuj6H5B_SF...|        Mexican|2017|\n",
      "|         27 4th St N|[,, 'full_bar', {...|1EokZOnCDkjv2VtPt...|American (Traditi...|   St Petersburg|[17:0-2:0,, 17:0-...|      0|27.7717231748| -82.6383055959| Reno Downtown Joint|      33701|          10|  4.0|   FL|1EokZOnCDkjv2VtPt...|       American|2014|\n",
      "|1644 Country Club...|[,, u'full_bar', ...|-lVTNjVoTMOkD-eT-...|Mexican, Restaurants|   Saint Charles|[11:0-22:30, 11:0...|      1|   38.7687445|    -90.5219795|     El Rancho Nuevo|      63303|          66|  3.5|   MO|-lVTNjVoTMOkD-eT-...|        Mexican|2017|\n",
      "|    1642 Butler Pike|[,, u'none', {'ro...|0sr1EyOc6Td1C-962...|Italian, American...|    Conshohocken|[10:0-23:0, 0:0-0...|      1|    40.088398|    -75.2926963|La Cucina Italian...|      19428|          44|  4.0|   PA|0sr1EyOc6Td1C-962...|       American|2016|\n",
      "|    1019 Florida Ave|[,,,,,,,,,,,, Tru...|0t14RIHl4wODz7LRi...|Tex-Mex, Restaura...|     Palm Harbor|[15:0-23:0,, 15:0...|      1|   28.0783137|    -82.7666322|  Salty Lime Cantina|      34683|         103|  4.5|   FL|0t14RIHl4wODz7LRi...|        Mexican|2018|\n",
      "|     200 Fairview Rd|[,,, {'romantic':...|-97632CUoOkJ8x4Al...|American (Traditi...|         Woodlyn|                null|      0|   39.8751524|    -75.3436091|Abner's Pizza & G...|      19094|           5|  1.5|   PA|-97632CUoOkJ8x4Al...|       American|2014|\n",
      "|      20 Richboro Rd|[,, u'none', {'to...|0zH0l4Jbf-oove3cL...|American (New), I...|         Newtown|[11:30-22:0, 11:3...|      1|   40.2280271|    -74.9401945|     Vecchia Osteria|      18940|         359|  4.0|   PA|0zH0l4Jbf-oove3cL...|       American|2011|\n",
      "|625 E Wetmore Rd,...|[,, u'none',, Fal...|-3-6BB10tIWNKGEF0...|Coffee & Tea, Asi...|          Tucson|[10:0-21:0, 0:0-0...|      1|   32.2885403|   -110.9631443|The 81 Hong Kong ...|      85705|         133|  4.0|   AZ|-3-6BB10tIWNKGEF0...|        Chinese|2020|\n",
      "|   4630 Lebanon Pike|[,,, {'romantic':...|-2Axhv9AZ_n7qjQef...|Greek, Mediterran...|       Hermitage|[11:0-21:0, 11:0-...|      0|   36.2166079|    -86.5963643|   Greek Sotir Grill|      37076|          21|  3.5|   TN|-2Axhv9AZ_n7qjQef...|       American|2015|\n",
      "|11435 Saskatchewa...|[,, u'full_bar', ...|151ujtgcbkGzAHUnc...|Event Planning & ...|        Edmonton|                null|      1|   53.5300382|   -113.5283787|        Faculty Club|    T6G 2G9|          13|  4.0|   AB|151ujtgcbkGzAHUnc...|       American|2012|\n",
      "|232 Hutton Pl, St...|[,, u'full_bar', ...|-Lfib0jjHweCly1-F...|American (New), R...|    Ashland City|[11:0-23:0, 11:0-...|      1|    36.250434|     -87.035458|     Sidelines Grill|      37015|          39|  3.0|   TN|-Lfib0jjHweCly1-F...|       American|2011|\n",
      "|       210 4th Ave N|[,, u'beer_and_wi...|1JxSgUivApwcRYFnX...|Cafes, Restaurant...|       Nashville|[7:0-13:0, 7:0-12...|      1|   36.1642022|    -86.7789669|Natura Cafe Nashv...|      37219|           5|  3.0|   TN|1JxSgUivApwcRYFnX...|       American|2019|\n",
      "| 437 S Gulfview Blvd|[,, u'full_bar', ...|-zsvmEbkd-K9K2DAA...|Mexican, American...|Clearwater Beach|[8:30-1:0, 0:0-0:...|      1|    27.969764|     -82.829336|Salty's Island Ba...|      33767|         599|  4.0|   FL|-zsvmEbkd-K9K2DAA...|        Mexican|2016|\n",
      "|  2659 N Illinois St|[,, u'none', {'ro...|1CRaUspmxoegNBUnL...|Chinese, Restaurants|         Swansea|[10:30-22:30, 10:...|      1|38.5443273542| -89.9841293629|Li Chinese Reaturant|      62226|          27|  3.0|   IL|1CRaUspmxoegNBUnL...|        Chinese|2012|\n",
      "|  3203 Calgary Trail|[,, u'full_bar', ...|0IG9w6YCkh-z5pnfS...|Chinese, Restaura...|        Edmonton|[10:0-22:30, 10:3...|      1|53.4642729002|-113.4947454929|        Tasty Noodle|    T6J 5X8|          64|  3.5|   AB|0IG9w6YCkh-z5pnfS...|        Chinese|2012|\n",
      "|       404 W Main St|[,, u'beer_and_wi...|-ksLHy9XXZVYuIVow...|American (New), T...|          Carmel|[16:0-2:0,, 16:0-...|      0|    39.978529|     -86.131936|   Shiraz Wine Cafe'|      46032|          39|  2.5|   IN|-ksLHy9XXZVYuIVow...|       American|2011|\n",
      "|      351 S Perry Rd|[,, u'full_bar', ...|1JHPRGTHrrSIcKDGz...|Bars, Steakhouses...|      Plainfield|[11:0-21:0, 0:0-0...|      1|    39.714395|     -86.354627|   Logan's Roadhouse|      46168|          76|  2.5|   IN|1JHPRGTHrrSIcKDGz...|       American|2010|\n",
      "|      7035 E 96th St|[,,,,,,,,, True, ...|0SZy4uieBzBzg54vR...|Restaurants, Chinese|    Indianapolis|                null|      0|     39.92633|    -86.0448719|       Panda Express|      46250|           6|  2.0|   IN|0SZy4uieBzBzg54vR...|        Chinese|2010|\n",
      "|15820 87th Avenue NW|[,, u'full_bar', ...|0CLCzdedGT2DPjkYM...|American (Traditi...|        Edmonton|[11:30-23:0, 11:3...|      1|53.5201345852|-113.5962501821|Brewsters Brewing...|    T5R 5W9|          37|  3.5|   AB|0CLCzdedGT2DPjkYM...|       American|2010|\n",
      "|     500 Delsea Dr N|[,, u'full_bar', ...|16zHT7zp6K9IEQZ1o...|Pubs, Bars, Resta...|       Glassboro|[7:0-2:0, 7:0-2:0...|      0|39.7136834654| -75.1113189153|          PB's Diner|      08028|         119|  2.5|   NJ|16zHT7zp6K9IEQZ1o...|       American|2010|\n",
      "+--------------------+--------------------+--------------------+--------------------+----------------+--------------------+-------+-------------+---------------+--------------------+-----------+------------+-----+-----+--------------------+---------------+----+\n",
      "only showing top 20 rows\n",
      "\n"
     ]
    }
   ],
   "source": [
    "filtered_business_df = filtered_business_df.withColumn('year',year('date')).drop('date')\n",
    "filtered_business_df.show()"
   ]
  },
  {
   "cell_type": "code",
   "execution_count": 27,
   "metadata": {},
   "outputs": [],
   "source": [
    "American_count_by_year = filtered_business_df.filter(filtered_business_df.target_cuisines == 'American').groupBy(\"year\").count().orderBy(\"year\")\n",
    "Mexican_count_by_year = filtered_business_df.filter(filtered_business_df.target_cuisines == 'Mexican').groupBy(\"year\").count().orderBy(\"year\")\n",
    "Chinese_count_by_year = filtered_business_df.filter(filtered_business_df.target_cuisines == 'Chinese').groupBy(\"year\").count().orderBy(\"year\")\n",
    "\n",
    "# American_pdf = American_count_by_year.toPandas()\n",
    "# Mexican_pdf =Mexican_count_by_year.toPandas()\n",
    "# Chinese_pdf = Chinese_count_by_year.toPandas()\n",
    "American_count_by_year.show()"
   ]
  },
  {
   "cell_type": "code",
   "execution_count": 28,
   "metadata": {},
   "outputs": [
    {
     "name": "stdout",
     "output_type": "stream",
     "text": [
      "+----+-----+\n",
      "|year|count|\n",
      "+----+-----+\n",
      "|2010|    3|\n",
      "|2011|    4|\n",
      "|2012|    3|\n",
      "|2014|    2|\n",
      "|2015|    1|\n",
      "|2016|    1|\n",
      "|2019|    1|\n",
      "|2021|    1|\n",
      "+----+-----+\n",
      "\n"
     ]
    }
   ],
   "source": [
    "American_count_by_year.show()"
   ]
  },
  {
   "cell_type": "code",
   "execution_count": null,
   "metadata": {},
   "outputs": [],
   "source": [
    "def epic1_task12(business_df:DataFrame,checkin_df:DataFrame, target_cuisines: list):\n",
    "    join_business = business_df.join(checkin_df, business_df['business_id'] == checkin_df['business_id']) \n",
    "\n",
    "    filtered_business_df = epic1_filter_by_target_cuisines(join_business, target_cuisines_task9to12)\n",
    "    filtered_business_df = filtered_business_df.withColumn('year',year('date')).drop('date')\n",
    "\n",
    "    American_count_by_year = filtered_business_df.filter(filtered_business_df.target_cuisines == 'American').groupBy(\"year\").count().orderBy(\"year\")\n",
    "    Mexican_count_by_year = filtered_business_df.filter(filtered_business_df.target_cuisines == 'Mexican').groupBy(\"year\").count().orderBy(\"year\")\n",
    "    Chinese_count_by_year = filtered_business_df.filter(filtered_business_df.target_cuisines == 'Chinese').groupBy(\"year\").count().orderBy(\"year\")\n",
    "\n",
    "    return American_count_by_year, Mexican_count_by_year, Chinese_count_by_year"
   ]
  }
 ],
 "metadata": {
  "kernelspec": {
   "display_name": "review",
   "language": "python",
   "name": "python3"
  },
  "language_info": {
   "codemirror_mode": {
    "name": "ipython",
    "version": 3
   },
   "file_extension": ".py",
   "mimetype": "text/x-python",
   "name": "python",
   "nbconvert_exporter": "python",
   "pygments_lexer": "ipython3",
   "version": "3.7.1"
  }
 },
 "nbformat": 4,
 "nbformat_minor": 2
}
